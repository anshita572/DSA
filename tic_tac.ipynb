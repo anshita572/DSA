{
 "cells": [
  {
   "cell_type": "code",
   "execution_count": 1,
   "metadata": {},
   "outputs": [],
   "source": [
    "def make_best_move():\n",
    "    bestScore = -math.inf\n",
    "    bestMove = None\n",
    "    for move in ticTacBoard.get_possible_moves():\n",
    "        ticTacBoard.make_move(move)\n",
    "        score = minimax(False, aiPlayer, ticTacBoard)\n",
    "        ticTacBoard.undo()\n",
    "        if (score > bestScore):\n",
    "            bestScore = score\n",
    "            bestMove = move\n",
    "    ticTacBoard.make_move(bestMove)\n",
    "\n",
    "def minimax(isMaxTurn, maximizerMark, board):\n",
    "    state = board.get_state()\n",
    "    if (state is State.DRAW):\n",
    "        return 0\n",
    "    elif (state is State.OVER):\n",
    "        return 1 if board.get_winner() is maximizerMark else -1\n",
    "\n",
    "    scores = []\n",
    "    for move in board.get_possible_moves():\n",
    "        board.make_move(move)\n",
    "        scores.append(minimax(not isMaxTurn, maximizerMark, board))\n",
    "        board.undo()\n",
    "\n",
    "    return max(scores) if isMaxTurn else min(scores)"
   ]
  }
 ],
 "metadata": {
  "interpreter": {
   "hash": "369f2c481f4da34e4445cda3fffd2e751bd1c4d706f27375911949ba6bb62e1c"
  },
  "kernelspec": {
   "display_name": "Python 3.10.2 64-bit",
   "language": "python",
   "name": "python3"
  },
  "language_info": {
   "codemirror_mode": {
    "name": "ipython",
    "version": 3
   },
   "file_extension": ".py",
   "mimetype": "text/x-python",
   "name": "python",
   "nbconvert_exporter": "python",
   "pygments_lexer": "ipython3",
   "version": "3.10.2"
  },
  "orig_nbformat": 4
 },
 "nbformat": 4,
 "nbformat_minor": 2
}
